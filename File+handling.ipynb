{
 "cells": [
  {
   "cell_type": "markdown",
   "metadata": {},
   "source": [
    "## File Handling in python"
   ]
  },
  {
   "cell_type": "code",
   "execution_count": null,
   "metadata": {
    "collapsed": true
   },
   "outputs": [],
   "source": [
    "#To open a text file, use:\n",
    "fh = open(\"hello.txt\", \"r\")\n",
    "\n",
    "#To read a text file, use:\n",
    "fh = open(\"hello.txt\",\"r\")\n",
    "print fh.read()\n",
    "\n",
    "#To read one line at a time, use:\n",
    "fh = open(\"hello\".txt\", \"r\")\n",
    "print fh.readline()\n",
    "\n",
    "#To read a list of lines use:\n",
    "fh = open(\"hello.txt.\", \"r\")\n",
    "print fh.readlines()\n",
    "\n",
    "#To write to a file, use:\n",
    "fh = open(\"hello.txt\",\"w\")\n",
    "write(\"Hello World\")\n",
    "fh.close()\n",
    "\n",
    "#To write to a file, use:\n",
    "fh = open(\"hello.txt\", \"w\")\n",
    "lines_of_text = [\"a line of text\", \"another line of text\", \"a third line\"]\n",
    "fh.writelines(lines_of_text)\n",
    "fh.close()\n",
    "\n",
    "#To append to file, use:\n",
    "fh = open(\"Hello.txt\", \"a\")\n",
    "write(\"Hello World again\")\n",
    "fh.close\n",
    "\n",
    "#To close a file, use\n",
    "fh = open(\"hello.txt\", \"r\")\n",
    "print fh.read()\n",
    "fh.close()"
   ]
  }
 ],
 "metadata": {
  "kernelspec": {
   "display_name": "Python 2",
   "language": "python",
   "name": "python2"
  },
  "language_info": {
   "codemirror_mode": {
    "name": "ipython",
    "version": 2
   },
   "file_extension": ".py",
   "mimetype": "text/x-python",
   "name": "python",
   "nbconvert_exporter": "python",
   "pygments_lexer": "ipython2",
   "version": "2.7.14"
  }
 },
 "nbformat": 4,
 "nbformat_minor": 2
}
