{
 "cells": [
  {
   "cell_type": "markdown",
   "metadata": {},
   "source": [
    "## Reading Csv file in pandas"
   ]
  },
  {
   "cell_type": "code",
   "execution_count": 15,
   "metadata": {
    "collapsed": true
   },
   "outputs": [],
   "source": [
    "import pandas as pd\n",
    "import numpy as np\n",
    "import matplotlib.pyplot as plt\n",
    "dataset=pd.read_csv('Social_Network_Ads.csv')"
   ]
  },
  {
   "cell_type": "code",
   "execution_count": 16,
   "metadata": {},
   "outputs": [
    {
     "name": "stdout",
     "output_type": "stream",
     "text": [
      "      User ID  Gender  Age  EstimatedSalary  Purchased\n",
      "0    15624510    Male   19            19000          0\n",
      "1    15810944    Male   35            20000          0\n",
      "2    15668575  Female   26            43000          0\n",
      "3    15603246  Female   27            57000          0\n",
      "4    15804002    Male   19            76000          0\n",
      "5    15728773    Male   27            58000          0\n",
      "6    15598044  Female   27            84000          0\n",
      "7    15694829  Female   32           150000          1\n",
      "8    15600575    Male   25            33000          0\n",
      "9    15727311  Female   35            65000          0\n",
      "10   15570769  Female   26            80000          0\n",
      "11   15606274  Female   26            52000          0\n",
      "12   15746139    Male   20            86000          0\n",
      "13   15704987    Male   32            18000          0\n",
      "14   15628972    Male   18            82000          0\n",
      "15   15697686    Male   29            80000          0\n",
      "16   15733883    Male   47            25000          1\n",
      "17   15617482    Male   45            26000          1\n",
      "18   15704583    Male   46            28000          1\n",
      "19   15621083  Female   48            29000          1\n",
      "20   15649487    Male   45            22000          1\n",
      "21   15736760  Female   47            49000          1\n",
      "22   15714658    Male   48            41000          1\n",
      "23   15599081  Female   45            22000          1\n",
      "24   15705113    Male   46            23000          1\n",
      "25   15631159    Male   47            20000          1\n",
      "26   15792818    Male   49            28000          1\n",
      "27   15633531  Female   47            30000          1\n",
      "28   15744529    Male   29            43000          0\n",
      "29   15669656    Male   31            18000          0\n",
      "..        ...     ...  ...              ...        ...\n",
      "370  15611430  Female   60            46000          1\n",
      "371  15774744    Male   60            83000          1\n",
      "372  15629885  Female   39            73000          0\n",
      "373  15708791    Male   59           130000          1\n",
      "374  15793890  Female   37            80000          0\n",
      "375  15646091  Female   46            32000          1\n",
      "376  15596984  Female   46            74000          0\n",
      "377  15800215  Female   42            53000          0\n",
      "378  15577806    Male   41            87000          1\n",
      "379  15749381  Female   58            23000          1\n",
      "380  15683758    Male   42            64000          0\n",
      "381  15670615    Male   48            33000          1\n",
      "382  15715622  Female   44           139000          1\n",
      "383  15707634    Male   49            28000          1\n",
      "384  15806901  Female   57            33000          1\n",
      "385  15775335    Male   56            60000          1\n",
      "386  15724150  Female   49            39000          1\n",
      "387  15627220    Male   39            71000          0\n",
      "388  15672330    Male   47            34000          1\n",
      "389  15668521  Female   48            35000          1\n",
      "390  15807837    Male   48            33000          1\n",
      "391  15592570    Male   47            23000          1\n",
      "392  15748589  Female   45            45000          1\n",
      "393  15635893    Male   60            42000          1\n",
      "394  15757632  Female   39            59000          0\n",
      "395  15691863  Female   46            41000          1\n",
      "396  15706071    Male   51            23000          1\n",
      "397  15654296  Female   50            20000          1\n",
      "398  15755018    Male   36            33000          0\n",
      "399  15594041  Female   49            36000          1\n",
      "\n",
      "[400 rows x 5 columns]\n"
     ]
    }
   ],
   "source": [
    "print(dataset)"
   ]
  },
  {
   "cell_type": "code",
   "execution_count": 18,
   "metadata": {},
   "outputs": [
    {
     "name": "stdout",
     "output_type": "stream",
     "text": [
      "User ID            15624510\n",
      "Gender                 Male\n",
      "Age                      19\n",
      "EstimatedSalary       19000\n",
      "Purchased                 0\n",
      "Name: 0, dtype: object\n"
     ]
    }
   ],
   "source": [
    "print(dataset.iloc[0])"
   ]
  },
  {
   "cell_type": "code",
   "execution_count": 29,
   "metadata": {},
   "outputs": [],
   "source": [
    "d=dataset.iloc[0]\n",
    "x=dataset.iloc[:,3].values"
   ]
  },
  {
   "cell_type": "code",
   "execution_count": 30,
   "metadata": {},
   "outputs": [
    {
     "name": "stdout",
     "output_type": "stream",
     "text": [
      "User ID 19000\n"
     ]
    }
   ],
   "source": [
    "print('User ID',x[0])"
   ]
  },
  {
   "cell_type": "code",
   "execution_count": 35,
   "metadata": {},
   "outputs": [],
   "source": [
    "x=dataset['Gender']"
   ]
  },
  {
   "cell_type": "code",
   "execution_count": 51,
   "metadata": {},
   "outputs": [
    {
     "ename": "AttributeError",
     "evalue": "'numpy.int64' object has no attribute 'split'",
     "output_type": "error",
     "traceback": [
      "\u001b[1;31m---------------------------------------------------------------------------\u001b[0m",
      "\u001b[1;31mAttributeError\u001b[0m                            Traceback (most recent call last)",
      "\u001b[1;32m<ipython-input-51-3db9ae1e9736>\u001b[0m in \u001b[0;36m<module>\u001b[1;34m()\u001b[0m\n\u001b[0;32m      2\u001b[0m \u001b[0mAge\u001b[0m\u001b[1;33m=\u001b[0m\u001b[1;33m[\u001b[0m\u001b[1;33m]\u001b[0m\u001b[1;33m\u001b[0m\u001b[0m\n\u001b[0;32m      3\u001b[0m \u001b[1;32mfor\u001b[0m \u001b[0mn\u001b[0m \u001b[1;32min\u001b[0m \u001b[0mx\u001b[0m\u001b[1;33m:\u001b[0m\u001b[1;33m\u001b[0m\u001b[0m\n\u001b[1;32m----> 4\u001b[1;33m     \u001b[0ms\u001b[0m\u001b[1;33m=\u001b[0m\u001b[0mn\u001b[0m\u001b[1;33m.\u001b[0m\u001b[0msplit\u001b[0m\u001b[1;33m(\u001b[0m\u001b[1;34m'-'\u001b[0m\u001b[1;33m)\u001b[0m\u001b[1;33m\u001b[0m\u001b[0m\n\u001b[0m\u001b[0;32m      5\u001b[0m     \u001b[0mGender\u001b[0m\u001b[1;33m.\u001b[0m\u001b[0mappend\u001b[0m\u001b[1;33m(\u001b[0m\u001b[0ms\u001b[0m\u001b[1;33m[\u001b[0m\u001b[1;36m0\u001b[0m\u001b[1;33m]\u001b[0m\u001b[1;33m)\u001b[0m\u001b[1;33m\u001b[0m\u001b[0m\n\u001b[0;32m      6\u001b[0m     \u001b[0mAge\u001b[0m\u001b[1;33m.\u001b[0m\u001b[0mappend\u001b[0m\u001b[1;33m(\u001b[0m\u001b[0ms\u001b[0m\u001b[1;33m[\u001b[0m\u001b[1;36m1\u001b[0m\u001b[1;33m]\u001b[0m\u001b[1;33m)\u001b[0m\u001b[1;33m\u001b[0m\u001b[0m\n",
      "\u001b[1;31mAttributeError\u001b[0m: 'numpy.int64' object has no attribute 'split'"
     ]
    }
   ],
   "source": [
    "Gender=[]\n",
    "Age=[]\n",
    "for n in x:\n",
    "    s=n.split('-')\n",
    "    Gender.append(s[0])\n",
    "    Age.append(s[1])\n",
    "print(Gender)"
   ]
  },
  {
   "cell_type": "code",
   "execution_count": 65,
   "metadata": {
    "collapsed": true
   },
   "outputs": [],
   "source": [
    "X = dataset.iloc[:, 2].values\n",
    "y = dataset.iloc[:, 4].values\n",
    "\n",
    "# Splitting the dataset into the Training set and Test set\n",
    "from sklearn.cross_validation import train_test_split\n",
    "X_train, X_test, y_train, y_test = train_test_split(X, y, test_size = 0.3, random_state = 0)\n",
    "\n"
   ]
  },
  {
   "cell_type": "code",
   "execution_count": 66,
   "metadata": {},
   "outputs": [
    {
     "name": "stdout",
     "output_type": "stream",
     "text": [
      "[19 35 26 27 19 27 27 32 25 35 26 26 20 32 18 29 47 45 46 48 45 47 48 45 46\n",
      " 47 49 47 29 31 31 27 21 28 27 35 33 30 26 27 27 33 35 30 28 23 25 27 30 31\n",
      " 24 18 29 35 27 24 23 28 22 32 27 25 23 32 59 24 24 23 22 31 25 24 20 33 32\n",
      " 34 18 22 28 26 30 39 20 35 30 31 24 28 26 35 22 30 26 29 29 35 35 28 35 28\n",
      " 27 28 32 33 19 21 26 27 26 38 39 37 38 37 42 40 35 36 40 41 36 37 40 35 41\n",
      " 39 42 26 30 26 31 33 30 21 28 23 20 30 28 19 19 18 35 30 34 24 27 41 29 20\n",
      " 26 41 31 36 40 31 46 29 26 32 32 25 37 35 33 18 22 35 29 29 21 34 26 34 34\n",
      " 23 35 25 24 31 26 31 32 33 33 31 20 33 35 28 24 19 29 19 28 34 30 20 26 35\n",
      " 35 49 39 41 58 47 55 52 40 46 48 52 59 35 47 60 49 40 46 59 41 35 37 60 35\n",
      " 37 36 56 40 42 35 39 40 49 38 46 40 37 46 53 42 38 50 56 41 51 35 57 41 35\n",
      " 44 37 48 37 50 52 41 40 58 45 35 36 55 35 48 42 40 37 47 40 43 59 60 39 57\n",
      " 57 38 49 52 50 59 35 37 52 48 37 37 48 41 37 39 49 55 37 35 36 42 43 45 46\n",
      " 58 48 37 37 40 42 51 47 36 38 42 39 38 49 39 39 54 35 45 36 52 53 41 48 48\n",
      " 41 41 42 36 47 38 48 42 40 57 36 58 35 38 39 53 35 38 47 47 41 53 54 39 38\n",
      " 38 37 42 37 36 60 54 41 40 42 43 53 47 42 42 59 58 46 38 54 60 60 39 59 37\n",
      " 46 46 42 41 58 42 48 44 49 57 56 49 39 47 48 48 47 45 60 39 46 51 50 36 49]\n"
     ]
    }
   ],
   "source": [
    "print(X)"
   ]
  },
  {
   "cell_type": "code",
   "execution_count": 54,
   "metadata": {},
   "outputs": [
    {
     "name": "stdout",
     "output_type": "stream",
     "text": [
      "[0 0 0 0 0 0 0 1 0 0 0 0 0 0 0 0 1 1 1 1 1 1 1 1 1 1 1 1 0 0 0 1 0 0 0 0 0\n",
      " 0 0 0 0 0 0 0 0 0 0 0 1 0 0 0 0 0 0 0 0 0 0 0 0 0 0 1 0 0 0 0 0 0 0 0 0 0\n",
      " 0 1 0 0 0 0 0 0 0 0 0 1 0 0 0 0 0 0 0 0 0 0 0 1 0 0 0 0 0 1 0 0 0 0 0 0 0\n",
      " 0 0 0 0 0 0 0 0 0 0 0 0 0 0 0 0 0 0 0 0 0 0 0 0 0 0 1 0 0 0 0 0 0 0 0 1 0\n",
      " 0 0 0 0 0 0 0 0 0 0 0 1 1 0 0 0 0 0 0 0 1 0 0 0 0 0 0 0 0 0 0 0 0 0 1 0 0\n",
      " 0 0 0 0 0 0 0 0 0 0 0 0 0 0 0 0 0 1 0 1 0 1 0 1 0 1 1 0 0 0 1 0 0 0 1 0 1\n",
      " 1 1 0 0 1 1 0 1 1 0 1 1 0 1 0 0 0 1 1 0 1 1 0 1 0 1 0 1 0 0 1 1 0 1 0 0 1\n",
      " 1 0 1 1 0 1 1 0 0 1 0 0 1 1 1 1 1 0 1 1 1 1 0 1 1 0 1 0 1 0 1 1 1 1 0 0 0\n",
      " 1 1 0 1 1 1 1 1 0 0 0 1 1 0 0 1 0 1 0 1 1 0 1 0 1 1 0 1 1 0 0 0 1 1 0 1 0\n",
      " 0 1 0 1 0 0 1 1 0 0 1 1 0 1 1 0 0 1 0 1 0 1 1 1 0 1 0 1 1 1 0 1 1 1 1 0 1\n",
      " 1 1 0 1 0 1 0 0 1 1 0 1 1 1 1 1 1 0 1 1 1 1 1 1 0 1 1 1 0 1]\n"
     ]
    }
   ],
   "source": [
    "print(y)"
   ]
  },
  {
   "cell_type": "code",
   "execution_count": null,
   "metadata": {},
   "outputs": [],
   "source": []
  },
  {
   "cell_type": "code",
   "execution_count": null,
   "metadata": {
    "collapsed": true
   },
   "outputs": [],
   "source": []
  }
 ],
 "metadata": {
  "kernelspec": {
   "display_name": "Python 3",
   "language": "python",
   "name": "python3"
  },
  "language_info": {
   "codemirror_mode": {
    "name": "ipython",
    "version": 3
   },
   "file_extension": ".py",
   "mimetype": "text/x-python",
   "name": "python",
   "nbconvert_exporter": "python",
   "pygments_lexer": "ipython3",
   "version": "3.6.3"
  }
 },
 "nbformat": 4,
 "nbformat_minor": 2
}
