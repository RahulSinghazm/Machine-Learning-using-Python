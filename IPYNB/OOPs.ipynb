{
 "cells": [
  {
   "cell_type": "markdown",
   "metadata": {},
   "source": [
    "### OBJECT ORIENTED PROGRAMMING\n",
    "\n",
    "class:A blueprint for an instances.\n",
    "Object:Object is an entity that has state and behavior. It may be anything. It may be physical and logical\n",
    "Instance:A constructed object of class.\n",
    "Method:A \"callable attribute\" defined in the class.\n",
    "Attribute:Any object Value,object attribute.\n",
    "self:It is a method on which object is called."
   ]
  },
  {
   "cell_type": "markdown",
   "metadata": {},
   "source": [
    "## Creating Class"
   ]
  },
  {
   "cell_type": "code",
   "execution_count": 3,
   "metadata": {},
   "outputs": [
    {
     "name": "stdout",
     "output_type": "stream",
     "text": [
      "your fullname is:rajat rajat\n",
      "your fullname is:mayank mayank\n",
      "your fullname is:rahul rahul\n"
     ]
    }
   ],
   "source": [
    "class Employee:\n",
    "    def __init__(self,name,lastname,idnum,salary):\n",
    "        self.name=name\n",
    "        self.lastname=name\n",
    "        self.idnum=idnum\n",
    "        self.salary=salary\n",
    "        self.mail=self.name+str(self.idnum)+'@gmail.com'\n",
    "    def getfullname(self):\n",
    "        return 'your fullname is:{} {}'.format(self.name,self.lastname)\n",
    "e1 = Employee('rajat','sharma',101,10000)\n",
    "e2 = Employee('mayank','sharma',102,12000)\n",
    "e3 = Employee('rahul','sharma3',103,15000)\n",
    "print(e1.getfullname())\n",
    "print(e2.getfullname())\n",
    "print(e3.getfullname())\n"
   ]
  },
  {
   "cell_type": "markdown",
   "metadata": {},
   "source": [
    "## To get salary"
   ]
  },
  {
   "cell_type": "code",
   "execution_count": 5,
   "metadata": {},
   "outputs": [
    {
     "name": "stdout",
     "output_type": "stream",
     "text": [
      "('your fullname is:rajat rajat', 10000)\n",
      "('your fullname is:mayank mayank', 12000)\n",
      "('your fullname is:rahul rahul', 15000)\n"
     ]
    }
   ],
   "source": [
    "class Employee:\n",
    "    def __init__(self,name,lastname,idnum,salary):\n",
    "        self.name=name\n",
    "        self.lastname=name\n",
    "        self.idnum=idnum\n",
    "        self.salary=salary\n",
    "        self.mail=self.name+str(self.idnum)+'@gmail.com'\n",
    "    def getfullname(self):\n",
    "        return 'your fullname is:{} {}'.format(self.name,self.lastname)\n",
    "    def getsalary(self):\n",
    "        return self.salary\n",
    "        \n",
    "e1 = Employee('rajat','sharma',101,10000)\n",
    "e2 = Employee('mayank','sharma',102,12000)\n",
    "e3 = Employee('rahul','sharma3',103,15000)\n",
    "print(e1.getfullname(),e1.getsalary())\n",
    "print(e2.getfullname(),e2.getsalary())\n",
    "print(e3.getfullname(),e3.getsalary())\n"
   ]
  },
  {
   "cell_type": "markdown",
   "metadata": {},
   "source": [
    "## Raisedamount"
   ]
  },
  {
   "cell_type": "code",
   "execution_count": 6,
   "metadata": {},
   "outputs": [
    {
     "name": "stdout",
     "output_type": "stream",
     "text": [
      "('your fullname is:rajat rajat', 10000)\n",
      "('your fullname is:mayank mayank', 12000)\n",
      "('your fullname is:rahul rahul', 15000)\n",
      "11000.0\n"
     ]
    }
   ],
   "source": [
    "class Employee:\n",
    "    emp = 0\n",
    "    raisedamount =1.10\n",
    "\n",
    "    def __init__(self,name,lastname,idnum,salary):\n",
    "        self.name=name\n",
    "        self.lastname=name\n",
    "        self.idnum=idnum\n",
    "        self.salary=salary\n",
    "        self.mail=self.name+str(self.idnum)+'@gmail.com'\n",
    "        \n",
    "    def getfullname(self):\n",
    "        return 'your fullname is:{} {}'.format(self.name,self.lastname)\n",
    "    def getsalary(self):\n",
    "        return self.salary\n",
    "    def getcurrentsalary(self):\n",
    "        return self.salary*Employee.raisedamount\n",
    "            \n",
    "e1 = Employee('rajat','sharma',101,10000)\n",
    "e2 = Employee('mayank','sharma',102,12000)\n",
    "e3 = Employee('rahul','sharma3',103,15000)\n",
    "e1.getcurrentsalary()\n",
    "Employee.raiseamount=1.10\n",
    "Employee.setsalary=1.15\n",
    "print(e1.getfullname(),e1.getsalary())\n",
    "print(e2.getfullname(),e2.getsalary())\n",
    "print(e3.getfullname(),e3.getsalary())\n",
    "print(e1.getcurrentsalary())"
   ]
  },
  {
   "cell_type": "code",
   "execution_count": null,
   "metadata": {
    "collapsed": true
   },
   "outputs": [],
   "source": []
  }
 ],
 "metadata": {
  "kernelspec": {
   "display_name": "Python 2",
   "language": "python",
   "name": "python2"
  },
  "language_info": {
   "codemirror_mode": {
    "name": "ipython",
    "version": 2
   },
   "file_extension": ".py",
   "mimetype": "text/x-python",
   "name": "python",
   "nbconvert_exporter": "python",
   "pygments_lexer": "ipython2",
   "version": "2.7.14"
  }
 },
 "nbformat": 4,
 "nbformat_minor": 2
}
