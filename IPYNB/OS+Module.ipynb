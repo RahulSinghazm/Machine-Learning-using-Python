{
 "cells": [
  {
   "cell_type": "markdown",
   "metadata": {},
   "source": [
    "## Python OS Module\n",
    "\n",
    "The os module in python provides a way of using operating system dependent functionality"
   ]
  },
  {
   "cell_type": "code",
   "execution_count": null,
   "metadata": {
    "collapsed": true
   },
   "outputs": [],
   "source": [
    "import os\n",
    "\n",
    "## Executing a shell command\n",
    "os.system()    \n",
    "\n",
    "## Get the users environment \n",
    "os.environ()\n",
    "\n",
    ">>>os.environ.get('HOME')\n",
    "Import os\n",
    "'C:\\\\Users\\\\SANTOSH'\n",
    ">>>os.path\n",
    "<module 'ntpath' from 'C:\\\\Users\\\\SANTOSH\\\\AppData\\\\Local\\\\Programs\\\\Python\\\\Python36-32\\\\lib\\\\ntpath.py'>\n",
    ">>>os.path.join(os.environ.get('HOME'),'test.txt')\n",
    "'C:\\\\Users\\\\SANTOSH\\\\test.txt'\n",
    "\n",
    "## Returns the current working directory.\n",
    "os.getcwd() \n",
    "for changing the working directory\n",
    "import os\n",
    "from datetime import datetime\n",
    "print(os.getcwd())\n",
    "os.chdir(r'F:\\Aptron class')\n",
    "print(os.getcwd())\n",
    "\n",
    "## Return the real group id of the current process.\n",
    "os.getgid()       \n",
    "\n",
    "## Return the current process’s user id.\n",
    "os.getuid()    \n",
    "\n",
    "## Returns the real process ID of the current process.\n",
    "os.getpid()     \n",
    "\n",
    "## Set the current numeric umask and return the previous umask.\n",
    "os.umask(mask)   \n",
    "\n",
    "## Return information identifying the current operating system.\n",
    "os.uname()     \n",
    "\n",
    "## Change the root directory of the current process to path.\n",
    "os.chroot(path)   \n",
    "\n",
    "## Return a list of the entries in the directory given by path.\n",
    "os.listdir(path)\n",
    "\n",
    "import os\n",
    "from datetime import datetime\n",
    "print(os.listdir(os.getcwd()))\n",
    "\n",
    "## Create a directory named path with numeric mode mode.\n",
    "os.mkdir(path)\n",
    "import os\n",
    "os.mdir('os-demo-1')\n",
    "\n",
    "## Recursive directory creation function.\n",
    "os.makedirs(path)  \n",
    "\n",
    "## Remove (delete) the file path.\n",
    "os.remove(path)    \n",
    "\n",
    "## Remove directories recursively.\n",
    "os.removedirs(path)\n",
    "os.removedirs('os-New folder')\n",
    "\n",
    "## Rename the file or directory src to dst.\n",
    "os.rename(src, dst) \n",
    "os.rename('file.py','donal.py')\n",
    "\n",
    "## Remove (delete) the directory path.\n",
    "os.rmdir(path) \n",
    "import os\n",
    "os.rmdir('os-New folder')"
   ]
  },
  {
   "cell_type": "code",
   "execution_count": 5,
   "metadata": {},
   "outputs": [],
   "source": [
    "with open('my.txt','w') as file:\n",
    "    file.write('santodf')\n",
    "    file.close()"
   ]
  }
 ],
 "metadata": {
  "kernelspec": {
   "display_name": "Python 2",
   "language": "python",
   "name": "python2"
  },
  "language_info": {
   "codemirror_mode": {
    "name": "ipython",
    "version": 2
   },
   "file_extension": ".py",
   "mimetype": "text/x-python",
   "name": "python",
   "nbconvert_exporter": "python",
   "pygments_lexer": "ipython2",
   "version": "2.7.14"
  }
 },
 "nbformat": 4,
 "nbformat_minor": 2
}
