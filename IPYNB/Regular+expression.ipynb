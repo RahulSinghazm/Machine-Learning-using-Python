{
 "cells": [
  {
   "cell_type": "markdown",
   "metadata": {},
   "source": [
    "## Regular Expression"
   ]
  },
  {
   "cell_type": "code",
   "execution_count": null,
   "metadata": {
    "collapsed": true
   },
   "outputs": [],
   "source": [
    ">>> import re\n",
    ">>> s='dfsg kjgh 8976 ikhjm'\n",
    ">>> re.findall('.',s)\n",
    "['d', 'f', 's', 'g', ' ', 'k', 'j', 'g', 'h', ' ', '8', '9', '7', '6', ' ', 'i', 'k', 'h', 'j', 'm']\n",
    ">>> re.findall('\\d',s)\n",
    "['8', '9', '7', '6']\n",
    ">>> re.findall('\\d\\d\\d\\d',s)\n",
    "['8976']\n",
    ">>> re.findall('\\d{3}',s)\n",
    "['897']\n",
    ">>> re.findall('[a-z]+',s)\n",
    "['dfsg', 'kjgh', 'ikhjm']\n",
    ">>> re.findall('[a-zA-Z]+',s)\n",
    "['dfsg', 'kjgh', 'ikhjm']\n",
    ">>> re.findall('[a-zA-Z0-9]+',s)\n",
    "['dfsg', 'kjgh', '8976', 'ikhjm']\n",
    ">>> re.findall('[a-zA-Z0-9 ]+',s)\n",
    "['dfsg kjgh 8976 ikhjm']\n",
    ">>> re.findall('[^a-zA-Z0-9]+',s)\n",
    "[' ', ' ', ' ']\n",
    ">>> s='dfsg kjgh 8976 ikhjm +91-9387467584'\n",
    ">>> re.findall('91-+\\d{10}',s)\n",
    "['91-9387467584']\n",
    ">>> ['dfsg', 'kjgh', 'ikhjm']\n",
    "['dfsg', 'kjgh', 'ikhjm']\n"
   ]
  }
 ],
 "metadata": {
  "kernelspec": {
   "display_name": "Python 3",
   "language": "python",
   "name": "python3"
  },
  "language_info": {
   "codemirror_mode": {
    "name": "ipython",
    "version": 3
   },
   "file_extension": ".py",
   "mimetype": "text/x-python",
   "name": "python",
   "nbconvert_exporter": "python",
   "pygments_lexer": "ipython3",
   "version": "3.6.3"
  }
 },
 "nbformat": 4,
 "nbformat_minor": 2
}
