{
 "cells": [
  {
   "cell_type": "markdown",
   "metadata": {},
   "source": [
    "## Inheritance"
   ]
  },
  {
   "cell_type": "code",
   "execution_count": 2,
   "metadata": {},
   "outputs": [
    {
     "name": "stdout",
     "output_type": "stream",
     "text": [
      "MADMAX\n",
      "999\n"
     ]
    }
   ],
   "source": [
    "class a:\n",
    "    def __init__(self,name):\n",
    "        self.name=name\n",
    "    \n",
    "class b(a):\n",
    "    def __init__(self,name,idnum):\n",
    "        super().__init__(name)\n",
    "        self.idnum=idnum\n",
    "obj =b(name='MADMAX',idnum=999)\n",
    "print(obj.name)\n",
    "print(obj.idnum)"
   ]
  },
  {
   "cell_type": "markdown",
   "metadata": {},
   "source": [
    "##### Example by adding developer and manager class "
   ]
  },
  {
   "cell_type": "code",
   "execution_count": null,
   "metadata": {
    "collapsed": true
   },
   "outputs": [],
   "source": [
    "class Employee:\n",
    "    emp = 0\n",
    "    raisedamount =1.10\n",
    "\n",
    "    def __init__(self,name,lastname,idnum,salary):\n",
    "        self.name=name\n",
    "        self.lastname=name\n",
    "        self.idnum=idnum\n",
    "        self.salary=salary\n",
    "        self.mail=self.name+str(self.idnum)+'@gmail.com'\n",
    "class developer(Employee):\n",
    "    def __init__(self,name,lastname,idnum,salary,language):\n",
    "        super().__init__(name,lastname,idnum,salary)\n",
    "        self.language=language\n",
    "class manager(developer):\n",
    "    def __init__(self,name,lastname,idnum,salary,language,post):\n",
    "        super().__init__(name,lastname,idnum,salary,language)\n",
    "        self.post=post\n",
    "        \n",
    "e1 = developer('rajat','sharma',101,10000,'PYTHON')\n",
    "e2 = developer('mayank','sharma',102,12000,'c')\n",
    "e3 = developer('rahul','sharma3',103,15000,'JAVA')\n",
    "e4 = manager('John','depp',282,28888,'XML','SHO')\n",
    "e1.language\n",
    "print(e1.language)\n",
    "e2.language\n",
    "print(e2.language)\n",
    "e4.post\n",
    "print(e4.post)"
   ]
  },
  {
   "cell_type": "markdown",
   "metadata": {},
   "source": [
    "###### Use of @classmethod and @staticmethod"
   ]
  },
  {
   "cell_type": "code",
   "execution_count": 32,
   "metadata": {},
   "outputs": [
    {
     "name": "stdout",
     "output_type": "stream",
     "text": [
      "1.1\n",
      "1.1\n",
      "<function Employee.gettoday at 0x000001EED1D350D0>\n"
     ]
    }
   ],
   "source": [
    "class Employee:\n",
    "    emp = 0\n",
    "    raisedamount =1.10\n",
    "\n",
    "    def __init__(self,name,lastname,idnum,salary):\n",
    "        self.name=name\n",
    "        self.lastname=name\n",
    "        self.idnum=idnum\n",
    "        self.salary=salary\n",
    "        self.mail=self.name+str(self.idnum)+'@gmail.com'\n",
    "        \n",
    "    def getfullname(self):\n",
    "        return 'your fullname is:{} {}'.format(self.name,self.lastname)\n",
    "    def getsalary(self):\n",
    "        return self.salary\n",
    "    def __add__(self,add):\n",
    "        return self.salary+other.salary\n",
    "    def __str__(self,other):\n",
    "        return '{} {}'.format(self.name,other.lastname)\n",
    "    def getcurrentsalary(self):\n",
    "        return self.salary*Employee.raisedamount\n",
    "    @classmethod\n",
    "    def setraisedamount(cls,amount):\n",
    "        \n",
    "        ##  class as a argument it is a method which can be passed class. here we have to add @classmethod  ##\n",
    "        \n",
    "        cls.setraisedamount=amount\n",
    "    \n",
    "\n",
    "    @staticmethod\n",
    "    def gettoday():\n",
    "        return time.ctime()\n",
    "\n",
    "\n",
    "\n",
    "e1 = Employee('rajat','sharma',101,10000)\n",
    "e2 = Employee('mayank','sharma',102,12000)\n",
    "e3 = Employee('rahul','sharma3',103,15000)\n",
    "\n",
    "\n",
    "print(Employee.raisedamount)\n",
    "Employee.setraisedamount(1.10)\n",
    "print(Employee.raisedamount)\n",
    "import time\n",
    "print(Employee.gettoday)\n"
   ]
  },
  {
   "cell_type": "code",
   "execution_count": null,
   "metadata": {
    "collapsed": true
   },
   "outputs": [],
   "source": []
  }
 ],
 "metadata": {
  "kernelspec": {
   "display_name": "Python 3",
   "language": "python",
   "name": "python3"
  },
  "language_info": {
   "codemirror_mode": {
    "name": "ipython",
    "version": 3
   },
   "file_extension": ".py",
   "mimetype": "text/x-python",
   "name": "python",
   "nbconvert_exporter": "python",
   "pygments_lexer": "ipython3",
   "version": "3.6.3"
  }
 },
 "nbformat": 4,
 "nbformat_minor": 2
}
