{
 "cells": [
  {
   "cell_type": "markdown",
   "metadata": {},
   "source": [
    "### Polymorphism"
   ]
  },
  {
   "cell_type": "code",
   "execution_count": 1,
   "metadata": {},
   "outputs": [
    {
     "name": "stdout",
     "output_type": "stream",
     "text": [
      "Area of Rectangle is: 2000\n",
      "Area of circle is: 314.0\n"
     ]
    }
   ],
   "source": [
    "class Rectangle():\n",
    "    def __init__(self,l,w):\n",
    "        self.l=l\n",
    "        self.w=w\n",
    "    def area(self):\n",
    "        return self.l*self.w\n",
    "class circle():\n",
    "    def __init__(self,r):\n",
    "        self.r=r\n",
    "    def area(self):\n",
    "        return 3.14*self.r*self.r\n",
    "    def diameter(self):\n",
    "        return 2*self.r\n",
    "r=Rectangle(40,50)\n",
    "c=circle(10)\n",
    "print('Area of Rectangle is:',r.area())\n",
    "print('Area of circle is:',c.area())\n"
   ]
  },
  {
   "cell_type": "code",
   "execution_count": 9,
   "metadata": {},
   "outputs": [
    {
     "name": "stdout",
     "output_type": "stream",
     "text": [
      "2000\n",
      "314.0\n"
     ]
    }
   ],
   "source": [
    "class Rectangle():\n",
    "    def __init__(self,l,w):\n",
    "        self.l=l\n",
    "        self.w=w\n",
    "    def area(self):\n",
    "        return self.l*self.w\n",
    "class circle():\n",
    "    def __init__(self,r):\n",
    "        self.r=r\n",
    "    def area(self):\n",
    "        return 3.14*self.r*self.r\n",
    "    def diameter(self):\n",
    "        return 2*self.r\n",
    "r=Rectangle(40,50)\n",
    "c=circle(10)\n",
    "for n in [r,c]:\n",
    "    print(n.area())\n",
    "\n"
   ]
  },
  {
   "cell_type": "markdown",
   "metadata": {},
   "source": [
    "# Magic methods"
   ]
  },
  {
   "cell_type": "code",
   "execution_count": 10,
   "metadata": {},
   "outputs": [
    {
     "name": "stdout",
     "output_type": "stream",
     "text": [
      "1\n",
      "2\n"
     ]
    }
   ],
   "source": [
    "class JustCounter:\n",
    "    __secretCount=0\n",
    "    \n",
    "    def count(self):\n",
    "        self.__secretCount+=1\n",
    "        print (self.__secretCount)\n",
    "counter=JustCounter()\n",
    "counter.count()\n",
    "counter.count()\n"
   ]
  },
  {
   "cell_type": "code",
   "execution_count": 11,
   "metadata": {},
   "outputs": [
    {
     "name": "stdout",
     "output_type": "stream",
     "text": [
      "your subject:java\n",
      " number of day30\n",
      "your subject:python\n",
      " number of day40\n"
     ]
    }
   ],
   "source": [
    "class test:\n",
    "    def __init__(self,sub,day):\n",
    "        self.sub=sub\n",
    "        self.day=day\n",
    "    def __add__(self,other):\n",
    "        return self.day+other.day\n",
    "    def __str__(self):\n",
    "        return f\"your subject:{self.sub}\\n number of day{self.day}\"\n",
    "    def __repr__(self):\n",
    "        return f\"test({self.sub},{self.day})\"\n",
    "    def __del__(self):\n",
    "        print(\"object sjdfg\")\n",
    "    def __len__(self):\n",
    "        return len(self.sub)    \n",
    "obj1=test('java',30)\n",
    "obj2=test('python',40)\n",
    "obj3=test('c',20)\n",
    "print(obj1)\n",
    "print(obj2)"
   ]
  },
  {
   "cell_type": "code",
   "execution_count": 14,
   "metadata": {},
   "outputs": [
    {
     "name": "stdout",
     "output_type": "stream",
     "text": [
      "object\n",
      "object\n",
      "object\n",
      "70\n"
     ]
    }
   ],
   "source": [
    "class test:\n",
    "    def __init__(self,sub,day):\n",
    "        self.sub=sub\n",
    "        self.day=day\n",
    "    def __add__(self,other):\n",
    "        return self.day+other.day\n",
    "    def __str__(self):\n",
    "        return f\"your subject:{self.sub}\\n number of day{self.day}\"\n",
    "    def __repr__(self):\n",
    "        return f\"test({self.sub},{self.day})\"\n",
    "    def __del__(self):\n",
    "        print(\"object\")\n",
    "    def __len__(self):\n",
    "        return len(self.sub)    \n",
    "obj1=test('java',30)\n",
    "obj2=test('python',40)\n",
    "obj3=test('c',20)\n",
    "print(obj1+obj2)"
   ]
  },
  {
   "cell_type": "code",
   "execution_count": 15,
   "metadata": {},
   "outputs": [
    {
     "name": "stdout",
     "output_type": "stream",
     "text": [
      "object\n",
      "object\n",
      "object\n",
      "test(c,20)\n"
     ]
    }
   ],
   "source": [
    "class test:\n",
    "    def __init__(self,sub,day):\n",
    "        self.sub=sub\n",
    "        self.day=day\n",
    "    def __add__(self,other):\n",
    "        return self.day+other.day\n",
    "    def __str__(self):\n",
    "        return f\"your subject:{self.sub}\\n number of day{self.day}\"\n",
    "    def __repr__(self):\n",
    "        return f\"test({self.sub},{self.day})\"\n",
    "    def __del__(self):\n",
    "        print(\"object sjdfg\")\n",
    "    def __len__(self):\n",
    "        return len(self.sub)    \n",
    "obj1=test('java',30)\n",
    "obj2=test('python',40)\n",
    "obj3=test('c',20)\n",
    "print(repr(obj3))"
   ]
  },
  {
   "cell_type": "code",
   "execution_count": 18,
   "metadata": {},
   "outputs": [
    {
     "name": "stdout",
     "output_type": "stream",
     "text": [
      "object \n",
      "object \n",
      "object \n",
      "1\n"
     ]
    }
   ],
   "source": [
    "class test:\n",
    "    def __init__(self,sub,day):\n",
    "        self.sub=sub\n",
    "        self.day=day\n",
    "    def __add__(self,other):\n",
    "        return self.day+other.day\n",
    "    def __str__(self):\n",
    "        return f\"your subject:{self.sub}\\n number of day{self.day}\"\n",
    "    def __repr__(self):\n",
    "        return f\"test({self.sub},{self.day})\"\n",
    "    def __del__(self):\n",
    "        print(\"object \")\n",
    "    def __len__(self):\n",
    "        return len(self.sub)    \n",
    "obj1=test('java',30)\n",
    "obj2=test('python',40)\n",
    "obj3=test('c',20)\n",
    "print(len(obj3))"
   ]
  },
  {
   "cell_type": "code",
   "execution_count": null,
   "metadata": {
    "collapsed": true
   },
   "outputs": [],
   "source": []
  }
 ],
 "metadata": {
  "kernelspec": {
   "display_name": "Python 3",
   "language": "python",
   "name": "python3"
  },
  "language_info": {
   "codemirror_mode": {
    "name": "ipython",
    "version": 3
   },
   "file_extension": ".py",
   "mimetype": "text/x-python",
   "name": "python",
   "nbconvert_exporter": "python",
   "pygments_lexer": "ipython3",
   "version": "3.6.3"
  }
 },
 "nbformat": 4,
 "nbformat_minor": 2
}
